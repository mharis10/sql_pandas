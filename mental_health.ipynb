{
 "cells": [
  {
   "cell_type": "code",
   "execution_count": 2,
   "id": "ad6b38eb",
   "metadata": {},
   "outputs": [],
   "source": [
    "import sqlite3\n",
    "import pandas as pd"
   ]
  },
  {
   "cell_type": "code",
   "execution_count": 3,
   "id": "5119416e",
   "metadata": {},
   "outputs": [],
   "source": [
    "db = sqlite3.connect(\"mental_health.sqlite\")"
   ]
  },
  {
   "cell_type": "markdown",
   "id": "15118345",
   "metadata": {},
   "source": [
    "# Mission 1: General Exploration"
   ]
  },
  {
   "cell_type": "markdown",
   "id": "679be0ba",
   "metadata": {},
   "source": [
    "# 1st Challenge:"
   ]
  },
  {
   "cell_type": "code",
   "execution_count": 43,
   "id": "d1e31169",
   "metadata": {},
   "outputs": [
    {
     "name": "stdout",
     "output_type": "stream",
     "text": [
      "   Year  QuestionsCount              SurveyDescription\n",
      "0  2014            26.0                            NaN\n",
      "1  2016            60.0                            NaN\n",
      "2  2017            76.0                            NaN\n",
      "3  2018            76.0                            NaN\n",
      "4  2019            76.0                            NaN\n",
      "0  2014             NaN  mental health survey for 2014\n",
      "1  2016             NaN  mental health survey for 2016\n",
      "2  2017             NaN  mental health survey for 2017\n",
      "3  2018             NaN  mental health survey for 2018\n",
      "4  2019             NaN  mental health survey for 2019\n"
     ]
    }
   ],
   "source": [
    "query = \"\"\"\n",
    "        SELECT SurveyID AS Year, COUNT(DISTINCT QuestionID) AS QuestionsCount\n",
    "        FROM Answer\n",
    "        GROUP BY SurveyID\n",
    "        ORDER BY 1\n",
    "        \"\"\"\n",
    "query2 = \"\"\"\n",
    "        SELECT SurveyID AS Year, Description AS SurveyDescription\n",
    "        FROM Survey\n",
    "        GROUP BY SurveyID\n",
    "        ORDER BY 1\n",
    "        \"\"\"\n",
    "df = pd.read_sql(query, db)\n",
    "df2 = pd.read_sql(query2, db)\n",
    "res = pd.concat([df,df2])\n",
    "print(res)"
   ]
  },
  {
   "cell_type": "markdown",
   "id": "65ba5913",
   "metadata": {},
   "source": [
    "# 2nd Challenge:"
   ]
  },
  {
   "cell_type": "code",
   "execution_count": 44,
   "id": "2fd385f0",
   "metadata": {},
   "outputs": [
    {
     "name": "stdout",
     "output_type": "stream",
     "text": [
      "   questionid\n",
      "0          59\n",
      "1          61\n",
      "2          63\n",
      "3          71\n",
      "4          73\n",
      "5          75\n",
      "6          82\n",
      "7          84\n",
      "8          86\n",
      "9         117\n"
     ]
    }
   ],
   "source": [
    "query = \"\"\"\n",
    "       SELECT questionid FROM Question WHERE questiontext LIKE '%Describe%'\n",
    "        \"\"\"\n",
    "describe_df = pd.read_sql(query, db)\n",
    "print(describe_df)"
   ]
  },
  {
   "cell_type": "markdown",
   "id": "abe6d0a7",
   "metadata": {},
   "source": [
    "# 3rd Challenge:"
   ]
  },
  {
   "cell_type": "code",
   "execution_count": 45,
   "id": "e4724281",
   "metadata": {},
   "outputs": [
    {
     "name": "stdout",
     "output_type": "stream",
     "text": [
      "                                            question                    answer\n",
      "0                   Any additional notes or comments  you rock for doing this!\n",
      "1  Are you openly identified at work as a person ...                         1\n",
      "2                             Are you self-employed?                         1\n",
      "3  Briefly describe what you think the industry a...                 ¯\\(°_o)/¯\n",
      "4  Describe the circumstances of the badly handle...     they told iresposible\n"
     ]
    }
   ],
   "source": [
    "query = \"\"\"\n",
    "        SELECT Question.questiontext AS question, Answer.AnswerText AS answer FROM Question JOIN Answer ON Question.questionid = Answer.QuestionID\n",
    "        GROUP BY Question.questiontext\n",
    "        \"\"\"\n",
    "df = pd.read_sql(query, db)\n",
    "print(df.head())"
   ]
  },
  {
   "cell_type": "markdown",
   "id": "c561d9c1",
   "metadata": {},
   "source": [
    "# 4th Challenge:"
   ]
  },
  {
   "cell_type": "code",
   "execution_count": 46,
   "id": "4a5a8224",
   "metadata": {},
   "outputs": [
    {
     "name": "stdout",
     "output_type": "stream",
     "text": [
      "                                            question                    answer\n",
      "0                   Any additional notes or comments  you rock for doing this!\n",
      "1  Are you openly identified at work as a person ...                         1\n",
      "2                             Are you self-employed?                         1\n",
      "3  Briefly describe what you think the industry a...                 ¯\\(°_o)/¯\n",
      "4  Describe the circumstances of the badly handle...     they told iresposible\n"
     ]
    }
   ],
   "source": [
    "query = \"\"\"\n",
    "        SELECT Question.questiontext AS question, Answer.AnswerText AS answer FROM Question JOIN Answer ON Question.questionid = Answer.QuestionID\n",
    "        GROUP BY Question.questiontext\n",
    "        \"\"\"\n",
    "df = pd.read_sql(query, db)\n",
    "print(df.head())"
   ]
  },
  {
   "cell_type": "markdown",
   "id": "9077e638",
   "metadata": {},
   "source": [
    "# 5th Challenge:"
   ]
  },
  {
   "cell_type": "code",
   "execution_count": 60,
   "id": "46dbbab6",
   "metadata": {},
   "outputs": [
    {
     "name": "stdout",
     "output_type": "stream",
     "text": [
      "            question answer  year  user_id  question_id\n",
      "0  What is your age?     -1  2014      391            1\n",
      "1  What is your age?     -1  2014      716            1\n",
      "2  What is your age?     -1  2014     1128            1\n",
      "3  What is your age?     -1  2017     3447            1\n",
      "4  What is your age?     -1  2017     3449            1\n"
     ]
    }
   ],
   "source": [
    "q = \"\"\"SELECT question.questiontext AS question, \n",
    "answer.AnswerText AS answer, answer.SurveyID as year,\n",
    "answer.UserID AS user_id, answer.QuestionID AS question_id FROM\n",
    "question JOIN answer ON question.questionid = answer.QuestionID \n",
    "WHERE question.questionid IN (1, 2, 3, 6, 20, 52, 79, 89, 113, 118)\"\"\"\n",
    "df = pd.read_sql(q, db)\n",
    "print(df.head())"
   ]
  },
  {
   "cell_type": "markdown",
   "id": "7306efc9",
   "metadata": {},
   "source": [
    "# 6th Challenge:"
   ]
  },
  {
   "cell_type": "code",
   "execution_count": 59,
   "id": "b9614dc8",
   "metadata": {},
   "outputs": [
    {
     "name": "stdout",
     "output_type": "stream",
     "text": [
      "     AnswerText\n",
      "0  I don't know\n",
      "1  I don't know\n",
      "2  I don't know\n",
      "3  I don't know\n",
      "4  I don't know\n"
     ]
    }
   ],
   "source": [
    "q = \"\"\"SELECT AnswerText FROM question \n",
    "JOIN answer ON question.questionid = answer.QuestionID\n",
    "WHERE question.questionID = 6\"\"\"\n",
    "df = pd.read_sql(q, db)\n",
    "print(df.head())"
   ]
  },
  {
   "cell_type": "markdown",
   "id": "9306fe05",
   "metadata": {},
   "source": [
    "# Mission 2: Age and Gender Analysis"
   ]
  },
  {
   "cell_type": "markdown",
   "id": "4a774c3c",
   "metadata": {},
   "source": [
    "# 1st Challenge:"
   ]
  },
  {
   "cell_type": "code",
   "execution_count": 71,
   "id": "ed2582b2",
   "metadata": {},
   "outputs": [
    {
     "name": "stdout",
     "output_type": "stream",
     "text": [
      "0\n"
     ]
    }
   ],
   "source": [
    "q = \"\"\"\n",
    "       DELETE from Answer where AnswerText = '-1'\n",
    "        \"\"\"\n",
    "cursor = db.cursor()\n",
    "cursor.execute(q)\n",
    "result = cursor.rowcount\n",
    "print(result)"
   ]
  },
  {
   "cell_type": "markdown",
   "id": "138a97b1",
   "metadata": {},
   "source": [
    "## 2nd Challenge:"
   ]
  },
  {
   "cell_type": "code",
   "execution_count": 61,
   "id": "d039e16d",
   "metadata": {},
   "outputs": [
    {
     "name": "stdout",
     "output_type": "stream",
     "text": [
      "   questionid\n",
      "0           1\n",
      "1          10\n",
      "2          11\n",
      "3          14\n",
      "4          20\n",
      "5          27\n",
      "6          55\n",
      "\n",
      "   questionid\n",
      "0           2\n"
     ]
    }
   ],
   "source": [
    "query = \"\"\"\n",
    "       SELECT questionid FROM Question WHERE questiontext LIKE '%Age%'\n",
    "        \"\"\"\n",
    "Age_df = pd.read_sql(query, db)\n",
    "print(Age_df)\n",
    "print()\n",
    "query = \"\"\"\n",
    "       SELECT questionid FROM Question WHERE questiontext LIKE '%Gender%'\n",
    "        \"\"\"\n",
    "Gender_df = pd.read_sql(query, db)\n",
    "print(Gender_df)"
   ]
  },
  {
   "cell_type": "markdown",
   "id": "4034cfb9",
   "metadata": {},
   "source": [
    "# 3rd Challenge:"
   ]
  },
  {
   "cell_type": "code",
   "execution_count": null,
   "id": "97ddb28a",
   "metadata": {},
   "outputs": [],
   "source": []
  },
  {
   "cell_type": "markdown",
   "id": "8dac48be",
   "metadata": {},
   "source": [
    "# 4th Challenge:"
   ]
  },
  {
   "cell_type": "code",
   "execution_count": null,
   "id": "9ccc0ac6",
   "metadata": {},
   "outputs": [],
   "source": []
  },
  {
   "cell_type": "markdown",
   "id": "452e4703",
   "metadata": {},
   "source": [
    "# 5th Challenge:"
   ]
  },
  {
   "cell_type": "markdown",
   "id": "70c0960d",
   "metadata": {},
   "source": [
    "# 6th Challenge:"
   ]
  },
  {
   "cell_type": "code",
   "execution_count": 48,
   "id": "03bd1e20",
   "metadata": {},
   "outputs": [
    {
     "name": "stdout",
     "output_type": "stream",
     "text": [
      "  AgeGroup   Cnt\n",
      "0    18-25   541\n",
      "1    26-35  2144\n",
      "2    36-45  1162\n",
      "3    46-55   284\n",
      "4     > 55    74\n"
     ]
    }
   ],
   "source": [
    "\n",
    "query = \"\"\"\n",
    "        WITH UserAge AS (\n",
    "        SELECT UserID, CAST(AnswerText AS int) As Age\n",
    "        FROM Answer\n",
    "        WHERE QuestionID = 1 AND Age >= 18\n",
    "        ORDER BY 2\n",
    "        ),\n",
    "        AgeGroup AS (\n",
    "        SELECT UserID, \n",
    "            (CASE\n",
    "                WHEN Age <= 25 THEN \"18-25\"\n",
    "                WHEN Age > 25 AND Age <= 35 THEN \"26-35\"\n",
    "                WHEN Age > 35 AND Age <= 45 THEN \"36-45\"\n",
    "                WHEN Age > 45 AND Age <= 55 THEN \"46-55\"\n",
    "                WHEN Age > 55 THEN \"> 55\"\n",
    "            END) AS AgeGroup\n",
    "        FROM UserAge\n",
    "        )\n",
    "        SELECT AgeGroup, COUNT(DISTINCT UserID) AS Cnt\n",
    "        FROM AgeGroup\n",
    "        GROUP BY 1\n",
    "        \"\"\"\n",
    "\n",
    "AgeGroup_df = pd.read_sql(query, db)\n",
    "print(AgeGroup_df)"
   ]
  },
  {
   "cell_type": "code",
   "execution_count": null,
   "id": "ead8b6f0",
   "metadata": {},
   "outputs": [],
   "source": []
  },
  {
   "cell_type": "code",
   "execution_count": null,
   "id": "c426cc86",
   "metadata": {},
   "outputs": [],
   "source": []
  },
  {
   "cell_type": "code",
   "execution_count": null,
   "id": "87b5e7fd",
   "metadata": {},
   "outputs": [],
   "source": []
  },
  {
   "cell_type": "code",
   "execution_count": null,
   "id": "da3f9ebb",
   "metadata": {},
   "outputs": [],
   "source": []
  },
  {
   "cell_type": "code",
   "execution_count": null,
   "id": "1ccf85cc",
   "metadata": {
    "collapsed": true
   },
   "outputs": [],
   "source": []
  },
  {
   "cell_type": "code",
   "execution_count": null,
   "id": "9d27f9e6",
   "metadata": {},
   "outputs": [],
   "source": []
  }
 ],
 "metadata": {
  "kernelspec": {
   "display_name": "Python 3 (ipykernel)",
   "language": "python",
   "name": "python3"
  },
  "language_info": {
   "codemirror_mode": {
    "name": "ipython",
    "version": 3
   },
   "file_extension": ".py",
   "mimetype": "text/x-python",
   "name": "python",
   "nbconvert_exporter": "python",
   "pygments_lexer": "ipython3",
   "version": "3.7.0"
  }
 },
 "nbformat": 4,
 "nbformat_minor": 5
}
